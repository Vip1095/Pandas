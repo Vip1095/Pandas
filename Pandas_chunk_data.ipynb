{
 "cells": [
  {
   "cell_type": "code",
   "execution_count": 12,
   "metadata": {},
   "outputs": [
    {
     "name": "stdout",
     "output_type": "stream",
     "text": [
      "(500000, 4)\n",
      "(500000, 4)\n",
      "(500000, 4)\n",
      "(500000, 4)\n",
      "(500000, 4)\n"
     ]
    }
   ],
   "source": [
    "import pandas as pd \n",
    "import numpy as np\n",
    "c_size = 500000\n",
    "csv_url = \"/home/user/Downloads/Copy of Sales_Data_20.csv\"\n",
    "for gm_chunk in pd.read_csv(csv_url,chunksize=c_size):\n",
    "    print(gm_chunk.shape)\n",
    "\n",
    "\n",
    "# data = pd.read_csv(\"/home/user/Downloads/Copy of Sales_Data_20.csv\")"
   ]
  },
  {
   "cell_type": "code",
   "execution_count": 13,
   "metadata": {},
   "outputs": [
    {
     "data": {
      "text/html": [
       "<div>\n",
       "<style scoped>\n",
       "    .dataframe tbody tr th:only-of-type {\n",
       "        vertical-align: middle;\n",
       "    }\n",
       "\n",
       "    .dataframe tbody tr th {\n",
       "        vertical-align: top;\n",
       "    }\n",
       "\n",
       "    .dataframe thead th {\n",
       "        text-align: right;\n",
       "    }\n",
       "</style>\n",
       "<table border=\"1\" class=\"dataframe\">\n",
       "  <thead>\n",
       "    <tr style=\"text-align: right;\">\n",
       "      <th></th>\n",
       "      <th>Region</th>\n",
       "      <th>Product</th>\n",
       "      <th>Date</th>\n",
       "      <th>Sales</th>\n",
       "    </tr>\n",
       "  </thead>\n",
       "  <tbody>\n",
       "    <tr>\n",
       "      <th>2000000</th>\n",
       "      <td>South</td>\n",
       "      <td>Prod I</td>\n",
       "      <td>2016-01-07</td>\n",
       "      <td>114692.291507</td>\n",
       "    </tr>\n",
       "    <tr>\n",
       "      <th>2000001</th>\n",
       "      <td>South</td>\n",
       "      <td>Prod B</td>\n",
       "      <td>2015-12-15</td>\n",
       "      <td>113413.213002</td>\n",
       "    </tr>\n",
       "    <tr>\n",
       "      <th>2000002</th>\n",
       "      <td>North</td>\n",
       "      <td>Prod D</td>\n",
       "      <td>2015-09-17</td>\n",
       "      <td>108603.944781</td>\n",
       "    </tr>\n",
       "    <tr>\n",
       "      <th>2000003</th>\n",
       "      <td>North</td>\n",
       "      <td>Prod N</td>\n",
       "      <td>2010-09-24</td>\n",
       "      <td>17802.044632</td>\n",
       "    </tr>\n",
       "    <tr>\n",
       "      <th>2000004</th>\n",
       "      <td>South</td>\n",
       "      <td>Prod B</td>\n",
       "      <td>2013-04-15</td>\n",
       "      <td>64751.404761</td>\n",
       "    </tr>\n",
       "  </tbody>\n",
       "</table>\n",
       "</div>"
      ],
      "text/plain": [
       "        Region Product        Date          Sales\n",
       "2000000  South  Prod I  2016-01-07  114692.291507\n",
       "2000001  South  Prod B  2015-12-15  113413.213002\n",
       "2000002  North  Prod D  2015-09-17  108603.944781\n",
       "2000003  North  Prod N  2010-09-24   17802.044632\n",
       "2000004  South  Prod B  2013-04-15   64751.404761"
      ]
     },
     "execution_count": 13,
     "metadata": {},
     "output_type": "execute_result"
    }
   ],
   "source": [
    "gm_chunk.head()"
   ]
  },
  {
   "cell_type": "code",
   "execution_count": 7,
   "metadata": {},
   "outputs": [],
   "source": [
    "data1 = data.append(data)"
   ]
  },
  {
   "cell_type": "code",
   "execution_count": 9,
   "metadata": {},
   "outputs": [
    {
     "data": {
      "text/plain": [
       "(569614, 31)"
      ]
     },
     "execution_count": 9,
     "metadata": {},
     "output_type": "execute_result"
    }
   ],
   "source": [
    "data1.shape"
   ]
  },
  {
   "cell_type": "code",
   "execution_count": null,
   "metadata": {},
   "outputs": [],
   "source": []
  },
  {
   "cell_type": "code",
   "execution_count": null,
   "metadata": {},
   "outputs": [],
   "source": []
  }
 ],
 "metadata": {
  "kernelspec": {
   "display_name": "Python 3",
   "language": "python",
   "name": "python3"
  },
  "language_info": {
   "codemirror_mode": {
    "name": "ipython",
    "version": 3
   },
   "file_extension": ".py",
   "mimetype": "text/x-python",
   "name": "python",
   "nbconvert_exporter": "python",
   "pygments_lexer": "ipython3",
   "version": "3.7.1"
  }
 },
 "nbformat": 4,
 "nbformat_minor": 2
}
